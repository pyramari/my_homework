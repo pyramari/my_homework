{
 "cells": [
  {
   "cell_type": "markdown",
   "id": "f5ba4a66-bba5-498e-831f-d62e1ae26469",
   "metadata": {},
   "source": [
    "# Data Science Tools and Ecosystem"
   ]
  },
  {
   "cell_type": "markdown",
   "id": "e3e13450-7cb0-459a-9cbf-6621d9e4caf3",
   "metadata": {},
   "source": [
    "In this notebook, Data Science Tools and Ecosystem are summarized."
   ]
  },
  {
   "cell_type": "markdown",
   "id": "969d1d77-64ca-4adc-ba05-9271812761a8",
   "metadata": {},
   "source": [
    "Objectibes:\n",
    "- List of the popular languages in Data Science\n",
    "- List of the commonly used libraries in Data Science\n",
    "- List of the Data Science Tools"
   ]
  },
  {
   "cell_type": "markdown",
   "id": "2509c7c6-18e3-4d07-a130-879a768ac7de",
   "metadata": {
    "tags": []
   },
   "source": [
    "Some of the popular languages that Data Scientists use are:\n",
    "1. Python\n",
    "2. R \n",
    "3. SQL\n",
    "    "
   ]
  },
  {
   "cell_type": "markdown",
   "id": "3078c0a2-d919-4b5f-8d49-0d7489f785ef",
   "metadata": {},
   "source": [
    "Some of the commonly used libraries used by Data Scientists include:\n",
    "1. Pandas\n",
    "2. NumPy\n",
    "3. Matplotlib"
   ]
  },
  {
   "cell_type": "markdown",
   "id": "dd1b6d81-e3a8-4f20-b732-41287cd24921",
   "metadata": {
    "tags": []
   },
   "source": [
    "|Data Science Tools|\n",
    "-------\n",
    "|Spark|\n",
    "|Orange|\n",
    "|Jupyter Notebook|\n"
   ]
  },
  {
   "cell_type": "markdown",
   "id": "e7857f78-f862-4dc7-a3cf-880d5830623d",
   "metadata": {
    "tags": []
   },
   "source": [
    "# Below are a few examples of evaluating arithmetic expressions in Python"
   ]
  },
  {
   "cell_type": "code",
   "execution_count": 5,
   "id": "1fa73b8a-9ed4-402f-be4d-f153a49f4494",
   "metadata": {
    "tags": []
   },
   "outputs": [
    {
     "data": {
      "text/plain": [
       "17"
      ]
     },
     "execution_count": 5,
     "metadata": {},
     "output_type": "execute_result"
    }
   ],
   "source": [
    "#This a simple arithmetic expression to mutiply then add integers\n",
    "(3*4)+5"
   ]
  },
  {
   "cell_type": "code",
   "execution_count": 7,
   "id": "29b22e19-8dd3-49a4-9aa1-4bafb23dfd62",
   "metadata": {
    "tags": []
   },
   "outputs": [
    {
     "data": {
      "text/plain": [
       "3.3333333333333335"
      ]
     },
     "execution_count": 7,
     "metadata": {},
     "output_type": "execute_result"
    }
   ],
   "source": [
    "#This will convert 200 minutes to hours by diving by 60\n",
    "minutes = 200\n",
    "hours = minutes/60\n",
    "hours"
   ]
  },
  {
   "cell_type": "markdown",
   "id": "32df25a7-4ff4-4d61-a677-beb2c23f1aaf",
   "metadata": {},
   "source": [
    "## Author\n",
    "Mariia S"
   ]
  },
  {
   "cell_type": "code",
   "execution_count": null,
   "id": "571c9950-3dbb-4159-9b51-45317cbce5c3",
   "metadata": {},
   "outputs": [],
   "source": []
  }
 ],
 "metadata": {
  "kernelspec": {
   "display_name": "Python 3 (ipykernel)",
   "language": "python",
   "name": "python3"
  },
  "language_info": {
   "codemirror_mode": {
    "name": "ipython",
    "version": 3
   },
   "file_extension": ".py",
   "mimetype": "text/x-python",
   "name": "python",
   "nbconvert_exporter": "python",
   "pygments_lexer": "ipython3",
   "version": "3.11.5"
  }
 },
 "nbformat": 4,
 "nbformat_minor": 5
}
